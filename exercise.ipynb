{
 "cells": [
  {
   "cell_type": "markdown",
   "metadata": {},
   "source": [
    "# Python for Everyone"
   ]
  },
  {
   "cell_type": "markdown",
   "metadata": {},
   "source": [
    "![python_icon](https://www.python.org/static/community_logos/python-logo-master-v3-TM.png)"
   ]
  },
  {
   "cell_type": "markdown",
   "metadata": {},
   "source": [
    "## Exercise 1.13"
   ]
  },
  {
   "cell_type": "markdown",
   "metadata": {},
   "source": [
    "1\\. What is the function of the secondary memory in a computer\n",
    "\n",
    "   b) Store information for the long term, even beyond a power cycle.\n",
    "\n",
    "----\n",
    "\n",
    "2\\. What is a program?\n",
    "\n",
    "   A sequence of statements that have been crafted to do something.\n",
    "\n",
    "----\n",
    "\n",
    "3\\. What is the difference between a compiler and an interpreter?\n",
    "\n",
    "   It is the nature of an *interpreter* to be able to have an **interactive conversation**/use high-level language.\n",
    "   \n",
    "   A *compiler* needs to be **handed the entire program in a file**, and then it runs a process to translate the high- level source code into machine language and then the compiler puts the resulting machine language into a file for   later excution.\n",
    "\n",
    "----\n",
    "\n",
    "4\\. Which of the following contains \"machine code\"?\n",
    "\n",
    "   c) The python interpreter\n",
    "\n",
    "----\n",
    "\n",
    "5\\. What is wrong with the following code?\n",
    "\n",
    "   The function name \"print\" is misspelled as \"primt\"\n",
    "\n",
    "----\n",
    "\n",
    "6\\. Where in the computer is a variable such as \"X\" stored after the following Python line finishes?\n",
    "\n",
    "    ```python\n",
    "    x = 123\n",
    "    ```\n",
    "   b) Main memory. The value of the variable is not stored and not avaliable for retreval after the program quites.\n",
    "\n",
    "----\n",
    "\n",
    "7.\\ What will the following program print out?\n",
    "\n",
    "    ```python\n",
    "    x = 43\n",
    "    x = x + 1\n",
    "    print(x)\n",
    "    ```\n",
    "   b) 44\n",
    "\n",
    "----\n",
    "\n",
    "8\\. Explain each of the following using an example of a human capability.\n",
    "\n",
    "    1) Central processing unit: brain\n",
    "    2) Main memory: waking consciousness\n",
    "    3) Secondary memory: long-term memory\n",
    "    4) Input device: ear, eye, nose\n",
    "    5) Output device: mouth\n",
    "\n",
    "----\n",
    "\n",
    "9\\. How to you fix a \"Syntax Error?\"\n",
    "\n",
    "   Correct the grammar and the spelling in the source code so the program can understand the instruction."
   ]
  },
  {
   "cell_type": "markdown",
   "metadata": {},
   "source": [
    "## Exercise 2.15"
   ]
  },
  {
   "cell_type": "markdown",
   "metadata": {},
   "source": [
    "2\\. Write a program that uses `input` to prompt a user for their name and then welcome them."
   ]
  },
  {
   "cell_type": "code",
   "execution_count": null,
   "metadata": {},
   "outputs": [],
   "source": [
    "name = input(\"May I ask your name?\")\n",
    "print(\"Welcome to the Wonderland\", name, sep=\", \", end=\"!\")"
   ]
  },
  {
   "cell_type": "markdown",
   "metadata": {},
   "source": [
    "----\n",
    "3\\. Write a program to prompt the user for hours and rate per hour to compute gross pay."
   ]
  },
  {
   "cell_type": "code",
   "execution_count": null,
   "metadata": {
    "scrolled": true
   },
   "outputs": [],
   "source": [
    "hour = int(input(\"How much hours do you work?\"))\n",
    "rate = int(input(\"What is the rate per hour?\"))\n",
    "gross_pay = print(\"The gross pay is $\", hour * rate, sep = \"\", end = \".\")"
   ]
  },
  {
   "cell_type": "markdown",
   "metadata": {},
   "source": [
    "----\n",
    "4\\. Write a program which prompts the user for a Celsius temperature, convert the temperature to Fahrenheit, and print out the converted temperature."
   ]
  },
  {
   "cell_type": "code",
   "execution_count": 13,
   "metadata": {},
   "outputs": [
    {
     "name": "stdout",
     "output_type": "stream",
     "text": [
      "The Celsius temprature:10\n",
      "The Fahrenheit temperature is 50.0°F."
     ]
    }
   ],
   "source": [
    "celsius_temp = int(input(\"The Celsius temprature:\"))\n",
    "fahrenheit_temp = celsius_temp * 1.8 + 32\n",
    "print(\"The Fahrenheit temperature is\", fahrenheit_temp, end = \"°F.\")"
   ]
  },
  {
   "cell_type": "markdown",
   "metadata": {},
   "source": [
    "# Exercise 3.11"
   ]
  },
  {
   "cell_type": "markdown",
   "metadata": {},
   "source": [
    "1\\. Rewrite your pay computation to give the employee 1.5 times the hourly rate for hours worked above 40 hours."
   ]
  },
  {
   "cell_type": "code",
   "execution_count": null,
   "metadata": {},
   "outputs": [],
   "source": [
    "hour = int(input(\"How much hours do your work?\"))\n",
    "rate = int(input(\"What's your rate?\"))\n",
    "\n",
    "if hour >= 40:\n",
    "    payment = hour * rate * 1.5\n",
    "else:\n",
    "    payment = hour * rate * 1.5\n",
    "\n",
    "print(\"The gross pay is $\", payment, sep = \"\", end = \".\")"
   ]
  },
  {
   "cell_type": "markdown",
   "metadata": {},
   "source": [
    "----\n",
    "2\\. Rewrite your pay program using `try` and `except` so that your program handles non-numeric input gracefully by printing a message and exiting the program."
   ]
  },
  {
   "cell_type": "markdown",
   "metadata": {},
   "source": [
    "----\n",
    "3\\. Write a program to prompt for a score between 0.0 and 1.0. If the score is out of range, print an error message. If the score is between 0.0 and 1.0, print a grade using the following table:\n",
    "\n",
    "| Score         | Grade         |\n",
    "| ------------- |:-------------:|\n",
    "| >= 0.9        | A             |\n",
    "| >= 0.8        | B             |\n",
    "| >= 0.7        | C             |\n",
    "| >= 0.6        | D             |\n",
    "| < 0.6         | F             |"
   ]
  }
 ],
 "metadata": {
  "kernelspec": {
   "display_name": "Python 3",
   "language": "python",
   "name": "python3"
  },
  "language_info": {
   "codemirror_mode": {
    "name": "ipython",
    "version": 3
   },
   "file_extension": ".py",
   "mimetype": "text/x-python",
   "name": "python",
   "nbconvert_exporter": "python",
   "pygments_lexer": "ipython3",
   "version": "3.6.5"
  }
 },
 "nbformat": 4,
 "nbformat_minor": 2
}
